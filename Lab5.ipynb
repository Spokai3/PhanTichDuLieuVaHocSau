{
  "nbformat": 4,
  "nbformat_minor": 0,
  "metadata": {
    "colab": {
      "name": "Lab5.ipynb",
      "provenance": [],
      "collapsed_sections": [],
      "authorship_tag": "ABX9TyPXcMUL67s4vO+I1kaTB/0A",
      "include_colab_link": true
    },
    "kernelspec": {
      "name": "python3",
      "display_name": "Python 3"
    },
    "language_info": {
      "name": "python"
    }
  },
  "cells": [
    {
      "cell_type": "markdown",
      "metadata": {
        "id": "view-in-github",
        "colab_type": "text"
      },
      "source": [
        "<a href=\"https://colab.research.google.com/github/Spokai3/PhanTichDuLieuVaHocSau/blob/main/Lab5.ipynb\" target=\"_parent\"><img src=\"https://colab.research.google.com/assets/colab-badge.svg\" alt=\"Open In Colab\"/></a>"
      ]
    },
    {
      "cell_type": "markdown",
      "metadata": {
        "id": "kR1d84gNMMzD"
      },
      "source": [
        "***Mean - Mode - Median***"
      ]
    },
    {
      "cell_type": "markdown",
      "metadata": {
        "id": "79eOuMgfKa3l"
      },
      "source": [
        "**Thí dụ 1**"
      ]
    },
    {
      "cell_type": "code",
      "metadata": {
        "colab": {
          "base_uri": "https://localhost:8080/"
        },
        "id": "SUo5SQx7xWFJ",
        "outputId": "b9ab37a9-a55f-4aff-89c4-716162f6fb13"
      },
      "source": [
        "from scipy import stats\n",
        "speed = [99,86,87,88,111,86,103,87,94,78,77,85,86]\n",
        "mode = stats.mode(speed)\n",
        "print(mode)"
      ],
      "execution_count": 1,
      "outputs": [
        {
          "output_type": "stream",
          "name": "stdout",
          "text": [
            "ModeResult(mode=array([86]), count=array([3]))\n"
          ]
        }
      ]
    },
    {
      "cell_type": "markdown",
      "metadata": {
        "id": "u8D6d5dwK0Jq"
      },
      "source": [
        "**Thí dụ 2**"
      ]
    },
    {
      "cell_type": "code",
      "metadata": {
        "colab": {
          "base_uri": "https://localhost:8080/"
        },
        "id": "ECc_wN2QK1sD",
        "outputId": "492a4379-4a0f-4327-d071-093a959c0eab"
      },
      "source": [
        "import numpy as np\n",
        "speed = [99,86,87,88,111,86,103,87,94,78,77,85,86]\n",
        "median = np.median(speed)\n",
        "print(median)"
      ],
      "execution_count": 2,
      "outputs": [
        {
          "output_type": "stream",
          "name": "stdout",
          "text": [
            "87.0\n"
          ]
        }
      ]
    },
    {
      "cell_type": "markdown",
      "metadata": {
        "id": "bzYzmIWWLQtK"
      },
      "source": [
        "**Thí dụ 3**"
      ]
    },
    {
      "cell_type": "code",
      "metadata": {
        "colab": {
          "base_uri": "https://localhost:8080/"
        },
        "id": "aj312GK6LTbD",
        "outputId": "9e4b15a2-cf6e-47ca-9d12-001633fe83af"
      },
      "source": [
        "import numpy as np\n",
        "speed = [99,86,87,88,111,86,103,87,94,78,77,85,86]\n",
        "mean = np.mean(speed)\n",
        "mean"
      ],
      "execution_count": 3,
      "outputs": [
        {
          "output_type": "execute_result",
          "data": {
            "text/plain": [
              "89.76923076923077"
            ]
          },
          "metadata": {},
          "execution_count": 3
        }
      ]
    },
    {
      "cell_type": "markdown",
      "metadata": {
        "id": "oRhXL2sdMRLh"
      },
      "source": [
        "***Khảo sát hình dạng phân phối của tập dữ liệu***"
      ]
    },
    {
      "cell_type": "markdown",
      "metadata": {
        "id": "kRz40UE1aMrA"
      },
      "source": [
        "**Thí dụ 4**"
      ]
    },
    {
      "cell_type": "code",
      "metadata": {
        "id": "rvqkXvUyNZNI"
      },
      "source": [
        "import pandas as pd\n",
        "dulieuxettuyen = pd.read_csv(\"https://raw.githubusercontent.com/huynhhoc/DataAnalystDeepLearning/main/Data/dulieuxettuyendaihoc.csv\")"
      ],
      "execution_count": 4,
      "outputs": []
    },
    {
      "cell_type": "code",
      "metadata": {
        "id": "k8Q-cfb-Nfw3"
      },
      "source": [
        "import seaborn as sns"
      ],
      "execution_count": 5,
      "outputs": []
    },
    {
      "cell_type": "code",
      "metadata": {
        "colab": {
          "base_uri": "https://localhost:8080/",
          "height": 386
        },
        "id": "I4faAF_CNiL4",
        "outputId": "ff43d7fc-f61a-4483-cb93-ab4b3d80be59"
      },
      "source": [
        "sns.displot(dulieuxettuyen, x=\"T1\", kde=True)"
      ],
      "execution_count": 6,
      "outputs": [
        {
          "output_type": "execute_result",
          "data": {
            "text/plain": [
              "<seaborn.axisgrid.FacetGrid at 0x7f5b82e6add0>"
            ]
          },
          "metadata": {},
          "execution_count": 6
        },
        {
          "output_type": "display_data",
          "data": {
            "image/png": "[encoded data removed]",
            "text/plain": [
              "<Figure size 360x360 with 1 Axes>"
            ]
          },
          "metadata": {
            "needs_background": "light"
          }
        }
      ]
    },
    {
      "cell_type": "code",
      "metadata": {
        "colab": {
          "base_uri": "https://localhost:8080/",
          "height": 296
        },
        "id": "VbnydB3dNqdo",
        "outputId": "2230ed29-e3be-419a-c148-a866b4d12e2a"
      },
      "source": [
        "sns.boxplot(x='T1', data = dulieuxettuyen)"
      ],
      "execution_count": 7,
      "outputs": [
        {
          "output_type": "execute_result",
          "data": {
            "text/plain": [
              "<matplotlib.axes._subplots.AxesSubplot at 0x7f5b76a71c90>"
            ]
          },
          "metadata": {},
          "execution_count": 7
        },
        {
          "output_type": "display_data",
          "data": {
            "image/png": "[encoded data removed]",
            "text/plain": [
              "<Figure size 432x288 with 1 Axes>"
            ]
          },
          "metadata": {
            "needs_background": "light"
          }
        }
      ]
    },
    {
      "cell_type": "code",
      "metadata": {
        "id": "Fx67pwNMNv8g"
      },
      "source": [
        "mean = dulieuxettuyen['T1'].mean()\n",
        "mode = dulieuxettuyen['T1'].mode()\n",
        "median = dulieuxettuyen['T1'].median()"
      ],
      "execution_count": 8,
      "outputs": []
    },
    {
      "cell_type": "code",
      "metadata": {
        "colab": {
          "base_uri": "https://localhost:8080/"
        },
        "id": "9rlbBldiN5sA",
        "outputId": "d9dad676-621d-4d42-990d-cdfb441cec79"
      },
      "source": [
        "print('mean= ',mean)\n",
        "print('median= ',median)"
      ],
      "execution_count": 9,
      "outputs": [
        {
          "output_type": "stream",
          "name": "stdout",
          "text": [
            "mean=  5.946000000000001\n",
            "median=  5.85\n"
          ]
        }
      ]
    },
    {
      "cell_type": "code",
      "metadata": {
        "colab": {
          "base_uri": "https://localhost:8080/"
        },
        "id": "9gxo1fsROAWH",
        "outputId": "23a7160d-3d2b-48e0-fd64-25148b9ea615"
      },
      "source": [
        "print('mode= ',mode)"
      ],
      "execution_count": 10,
      "outputs": [
        {
          "output_type": "stream",
          "name": "stdout",
          "text": [
            "mode=  0    5.2\n",
            "1    5.3\n",
            "2    7.3\n",
            "dtype: float64\n"
          ]
        }
      ]
    },
    {
      "cell_type": "markdown",
      "metadata": {
        "id": "OgZydcTROMP3"
      },
      "source": [
        "***Skewness và Kurtosis***"
      ]
    },
    {
      "cell_type": "code",
      "metadata": {
        "colab": {
          "base_uri": "https://localhost:8080/"
        },
        "id": "1FKRjUuPTujG",
        "outputId": "ccce49e3-40e6-413b-9711-9d838b164ab3"
      },
      "source": [
        "from scipy.stats import skew\n",
        "skew(dulieuxettuyen['T1'], bias=False)"
      ],
      "execution_count": 11,
      "outputs": [
        {
          "output_type": "execute_result",
          "data": {
            "text/plain": [
              "-0.17824317486762223"
            ]
          },
          "metadata": {},
          "execution_count": 11
        }
      ]
    },
    {
      "cell_type": "code",
      "metadata": {
        "id": "IGnwLSUEYqj2",
        "colab": {
          "base_uri": "https://localhost:8080/"
        },
        "outputId": "9ebd511c-7f82-48f2-84d1-b7cdcde2aaef"
      },
      "source": [
        "from scipy.stats import kurtosis\n",
        "kurtosis(dulieuxettuyen['T1'], bias=False)"
      ],
      "execution_count": 12,
      "outputs": [
        {
          "output_type": "execute_result",
          "data": {
            "text/plain": [
              "-0.48010360836580546"
            ]
          },
          "metadata": {},
          "execution_count": 12
        }
      ]
    },
    {
      "cell_type": "markdown",
      "metadata": {
        "id": "NS0q2IV3W_pJ"
      },
      "source": [
        "***Bài Tập***"
      ]
    },
    {
      "cell_type": "markdown",
      "metadata": {
        "id": "uR4ZWyU_PJEh"
      },
      "source": [
        "**1.Mô tả dữ liệu bằng các giá trị số:**"
      ]
    },
    {
      "cell_type": "markdown",
      "metadata": {
        "id": "8F0_F8SbXBZp"
      },
      "source": [
        "Bước 1: Tính các đại lượng thống kê cho hai tập dữ liệu"
      ]
    },
    {
      "cell_type": "code",
      "metadata": {
        "colab": {
          "base_uri": "https://localhost:8080/",
          "height": 419
        },
        "id": "TMwGiWUzXKsp",
        "outputId": "39283839-1c65-4867-ff7a-eb581e3c05bd"
      },
      "source": [
        "import pandas as pd\n",
        "dulieu = pd.read_csv('https://raw.githubusercontent.com/huynhhoc/DataAnalystDeepLearning/main/Data/babies.csv', sep='\\s+')\n",
        "dulieu"
      ],
      "execution_count": 13,
      "outputs": [
        {
          "output_type": "execute_result",
          "data": {
            "text/html": [
              "<div>\n",
              "<style scoped>\n",
              "    .dataframe tbody tr th:only-of-type {\n",
              "        vertical-align: middle;\n",
              "    }\n",
              "\n",
              "    .dataframe tbody tr th {\n",
              "        vertical-align: top;\n",
              "    }\n",
              "\n",
              "    .dataframe thead th {\n",
              "        text-align: right;\n",
              "    }\n",
              "</style>\n",
              "<table border=\"1\" class=\"dataframe\">\n",
              "  <thead>\n",
              "    <tr style=\"text-align: right;\">\n",
              "      <th></th>\n",
              "      <th>bwt</th>\n",
              "      <th>smoke</th>\n",
              "    </tr>\n",
              "  </thead>\n",
              "  <tbody>\n",
              "    <tr>\n",
              "      <th>0</th>\n",
              "      <td>120</td>\n",
              "      <td>0</td>\n",
              "    </tr>\n",
              "    <tr>\n",
              "      <th>1</th>\n",
              "      <td>113</td>\n",
              "      <td>0</td>\n",
              "    </tr>\n",
              "    <tr>\n",
              "      <th>2</th>\n",
              "      <td>128</td>\n",
              "      <td>1</td>\n",
              "    </tr>\n",
              "    <tr>\n",
              "      <th>3</th>\n",
              "      <td>123</td>\n",
              "      <td>0</td>\n",
              "    </tr>\n",
              "    <tr>\n",
              "      <th>4</th>\n",
              "      <td>108</td>\n",
              "      <td>1</td>\n",
              "    </tr>\n",
              "    <tr>\n",
              "      <th>...</th>\n",
              "      <td>...</td>\n",
              "      <td>...</td>\n",
              "    </tr>\n",
              "    <tr>\n",
              "      <th>1231</th>\n",
              "      <td>113</td>\n",
              "      <td>0</td>\n",
              "    </tr>\n",
              "    <tr>\n",
              "      <th>1232</th>\n",
              "      <td>128</td>\n",
              "      <td>0</td>\n",
              "    </tr>\n",
              "    <tr>\n",
              "      <th>1233</th>\n",
              "      <td>130</td>\n",
              "      <td>1</td>\n",
              "    </tr>\n",
              "    <tr>\n",
              "      <th>1234</th>\n",
              "      <td>125</td>\n",
              "      <td>0</td>\n",
              "    </tr>\n",
              "    <tr>\n",
              "      <th>1235</th>\n",
              "      <td>117</td>\n",
              "      <td>0</td>\n",
              "    </tr>\n",
              "  </tbody>\n",
              "</table>\n",
              "<p>1236 rows × 2 columns</p>\n",
              "</div>"
            ],
            "text/plain": [
              "      bwt  smoke\n",
              "0     120      0\n",
              "1     113      0\n",
              "2     128      1\n",
              "3     123      0\n",
              "4     108      1\n",
              "...   ...    ...\n",
              "1231  113      0\n",
              "1232  128      0\n",
              "1233  130      1\n",
              "1234  125      0\n",
              "1235  117      0\n",
              "\n",
              "[1236 rows x 2 columns]"
            ]
          },
          "metadata": {},
          "execution_count": 13
        }
      ]
    },
    {
      "cell_type": "code",
      "metadata": {
        "id": "5I5albQ7bDpD"
      },
      "source": [
        "dl1 = pd.DataFrame(dulieu)\n",
        "dlhutthuoc = dl1[dl1['smoke'] == 1]\n",
        "dlkohutthuoc = dl1[dl1['smoke'] == 0]"
      ],
      "execution_count": 14,
      "outputs": []
    },
    {
      "cell_type": "code",
      "metadata": {
        "id": "_ZIkGJJsAi_j"
      },
      "source": [
        "d = {'TH1: Bà mẹ hút thuốc' : pd.Series([dlhutthuoc['bwt'].count(),dlhutthuoc['bwt'].min(),\n",
        "                        dlhutthuoc['bwt'].max(),dlhutthuoc['bwt'].mean(),\n",
        "                        dlhutthuoc['bwt'].std(),dlhutthuoc['bwt'].var(),\n",
        "                        dlhutthuoc['bwt'].median(),dlhutthuoc['bwt'].quantile(.0),\n",
        "                        dlhutthuoc['bwt'].quantile(.25),dlhutthuoc['bwt'].quantile(.5),\n",
        "                       dlhutthuoc['bwt'].quantile(.75),dlhutthuoc['bwt'].quantile(1),\n",
        "                       dlhutthuoc['bwt'].quantile(.75)-dlhutthuoc['bwt'].quantile(.25),\n",
        "                       dlhutthuoc['bwt'].kurtosis()+2.98,dlhutthuoc['bwt'].skew()],\n",
        "                       index=['Số lượng','Min','Max','Mean','Sd','Var','Median','Quantile 0%',\n",
        "                              'Quantile 25%','Quantile 50%','Quantile 75%','Quantile 100%','IQR',\n",
        "                              'Kurtosis','Skewness']),\n",
        "     'TH2: Bà mẹ không hút thuốc' : pd.Series([dlkohutthuoc['bwt'].count(),dlkohutthuoc['bwt'].min(),\n",
        "                        dlkohutthuoc['bwt'].max(),dlkohutthuoc['bwt'].mean(),\n",
        "                        dlkohutthuoc['bwt'].std(),dlkohutthuoc['bwt'].var(),\n",
        "                        dlkohutthuoc['bwt'].median(),dlkohutthuoc['bwt'].quantile(.0),\n",
        "                        dlkohutthuoc['bwt'].quantile(.25),dlkohutthuoc['bwt'].quantile(.5),\n",
        "                       dlkohutthuoc['bwt'].quantile(.75),dlkohutthuoc['bwt'].quantile(1),\n",
        "                       dlkohutthuoc['bwt'].quantile(.75)-dlkohutthuoc['bwt'].quantile(.25),\n",
        "                       dlkohutthuoc['bwt'].kurtosis()+2.98,dlkohutthuoc['bwt'].skew()],\n",
        "                       index=['Số lượng','Min','Max','Mean','Sd','Var','Median','Quantile 0%',\n",
        "                              'Quantile 25%','Quantile 50%','Quantile 75%','Quantile 100%','IQR',\n",
        "                              'Kurtosis','Skewness'])}"
      ],
      "execution_count": 15,
      "outputs": []
    },
    {
      "cell_type": "code",
      "metadata": {
        "colab": {
          "base_uri": "https://localhost:8080/",
          "height": 514
        },
        "id": "XITdFcujBQaC",
        "outputId": "51c30d25-1d49-4479-f6fe-fc1eabf59de1"
      },
      "source": [
        "dt = pd.DataFrame(d)\n",
        "dt"
      ],
      "execution_count": 16,
      "outputs": [
        {
          "output_type": "execute_result",
          "data": {
            "text/html": [
              "<div>\n",
              "<style scoped>\n",
              "    .dataframe tbody tr th:only-of-type {\n",
              "        vertical-align: middle;\n",
              "    }\n",
              "\n",
              "    .dataframe tbody tr th {\n",
              "        vertical-align: top;\n",
              "    }\n",
              "\n",
              "    .dataframe thead th {\n",
              "        text-align: right;\n",
              "    }\n",
              "</style>\n",
              "<table border=\"1\" class=\"dataframe\">\n",
              "  <thead>\n",
              "    <tr style=\"text-align: right;\">\n",
              "      <th></th>\n",
              "      <th>TH1: Bà mẹ hút thuốc</th>\n",
              "      <th>TH2: Bà mẹ không hút thuốc</th>\n",
              "    </tr>\n",
              "  </thead>\n",
              "  <tbody>\n",
              "    <tr>\n",
              "      <th>Số lượng</th>\n",
              "      <td>484.000000</td>\n",
              "      <td>742.000000</td>\n",
              "    </tr>\n",
              "    <tr>\n",
              "      <th>Min</th>\n",
              "      <td>58.000000</td>\n",
              "      <td>55.000000</td>\n",
              "    </tr>\n",
              "    <tr>\n",
              "      <th>Max</th>\n",
              "      <td>163.000000</td>\n",
              "      <td>176.000000</td>\n",
              "    </tr>\n",
              "    <tr>\n",
              "      <th>Mean</th>\n",
              "      <td>114.109504</td>\n",
              "      <td>123.047170</td>\n",
              "    </tr>\n",
              "    <tr>\n",
              "      <th>Sd</th>\n",
              "      <td>18.098946</td>\n",
              "      <td>17.398689</td>\n",
              "    </tr>\n",
              "    <tr>\n",
              "      <th>Var</th>\n",
              "      <td>327.571835</td>\n",
              "      <td>302.714371</td>\n",
              "    </tr>\n",
              "    <tr>\n",
              "      <th>Median</th>\n",
              "      <td>115.000000</td>\n",
              "      <td>123.000000</td>\n",
              "    </tr>\n",
              "    <tr>\n",
              "      <th>Quantile 0%</th>\n",
              "      <td>58.000000</td>\n",
              "      <td>55.000000</td>\n",
              "    </tr>\n",
              "    <tr>\n",
              "      <th>Quantile 25%</th>\n",
              "      <td>102.000000</td>\n",
              "      <td>113.000000</td>\n",
              "    </tr>\n",
              "    <tr>\n",
              "      <th>Quantile 50%</th>\n",
              "      <td>115.000000</td>\n",
              "      <td>123.000000</td>\n",
              "    </tr>\n",
              "    <tr>\n",
              "      <th>Quantile 75%</th>\n",
              "      <td>126.000000</td>\n",
              "      <td>134.000000</td>\n",
              "    </tr>\n",
              "    <tr>\n",
              "      <th>Quantile 100%</th>\n",
              "      <td>163.000000</td>\n",
              "      <td>176.000000</td>\n",
              "    </tr>\n",
              "    <tr>\n",
              "      <th>IQR</th>\n",
              "      <td>24.000000</td>\n",
              "      <td>21.000000</td>\n",
              "    </tr>\n",
              "    <tr>\n",
              "      <th>Kurtosis</th>\n",
              "      <td>2.980408</td>\n",
              "      <td>4.032213</td>\n",
              "    </tr>\n",
              "    <tr>\n",
              "      <th>Skewness</th>\n",
              "      <td>-0.033700</td>\n",
              "      <td>-0.187363</td>\n",
              "    </tr>\n",
              "  </tbody>\n",
              "</table>\n",
              "</div>"
            ],
            "text/plain": [
              "               TH1: Bà mẹ hút thuốc  TH2: Bà mẹ không hút thuốc\n",
              "Số lượng                 484.000000                  742.000000\n",
              "Min                       58.000000                   55.000000\n",
              "Max                      163.000000                  176.000000\n",
              "Mean                     114.109504                  123.047170\n",
              "Sd                        18.098946                   17.398689\n",
              "Var                      327.571835                  302.714371\n",
              "Median                   115.000000                  123.000000\n",
              "Quantile 0%               58.000000                   55.000000\n",
              "Quantile 25%             102.000000                  113.000000\n",
              "Quantile 50%             115.000000                  123.000000\n",
              "Quantile 75%             126.000000                  134.000000\n",
              "Quantile 100%            163.000000                  176.000000\n",
              "IQR                       24.000000                   21.000000\n",
              "Kurtosis                   2.980408                    4.032213\n",
              "Skewness                  -0.033700                   -0.187363"
            ]
          },
          "metadata": {},
          "execution_count": 16
        }
      ]
    },
    {
      "cell_type": "markdown",
      "metadata": {
        "id": "TiIVzfzlE0GK"
      },
      "source": [
        "**Bước 2**: Phân tích dữ liệu dựa trên các đại lượng vừa tính\n",
        "\n",
        "**1. Xét tập dữ liệu ứng với trường hợp bà mẹ có hút thuốc**\n",
        "\n",
        "**Vị trí tập trung của dữ liệu:** khoảng giá trị : 114-115\n",
        "\n",
        "**Tính biến động của dữ liệu:**\n",
        "\n",
        "**Phương sai (variance):** var=327.571835\n",
        "\n",
        "**Độ lệch chuẩn (standard deviation): sd**= 18.098946\n",
        "\n",
        "**Khoảng giá trị:** min=58, max=163 -> range=105\n",
        "\n",
        "**Nhận xét: Như vậy dữ liệu phân bố gần nhau.**\n",
        "\n",
        "**Hình dạng phân bố của dữ liệu:**\n",
        "\n",
        "**Độ lệch:** Skewness= -0.033700\n",
        "\n",
        "**Độ bè nhọn của đỉnh dữ liệu:** Kurtosis=2.980408\n",
        "\n",
        "**Nhận xét: Như vậy dữ liệu hơi lệch về phía trái, và đỉnh nhọn, hai bên giảm tốc độ vừa phải.**\n",
        "\n",
        "**2.Xét tập dữ liệu ứng với trường hợp bà mẹ không hút thuốc**\n",
        "\n",
        "**Vị trí tập trung của dữ liệu:** khoảng giá trị: 123\n",
        "\n",
        "**Tính biến động của dữ liệu:**\n",
        "\n",
        "**Phương sai (variance):** 302.714371\n",
        "\n",
        "**Độ lệch chuẩn (standard deviation): sd**= 17.398689\n",
        "\n",
        "**Khoảng giá trị:** min= 55, max= 176 ->range = 121\n",
        "\n",
        "**Nhận xét: Như vậy dữ liệu hơi lệch về phía trái, và đỉnh nhọn, hai bên giảm tốc độ vừa phải.**\n",
        "\n",
        "**Hình dạng phân bố của dữ liệu:**\n",
        "\n",
        "**Độ lệch:** Skewness= -0.187363\n",
        "\n",
        "**Độ bè nhọn của đỉnh dữ liệu:** Kurtosis= 4.032213\n",
        "\n",
        "**Nhận xét: Như vậy dữ liệu hơi lệch về phía trái, và đỉnh nhọn, hai bên giảm tốc độ vừa phải.**"
      ]
    },
    {
      "cell_type": "markdown",
      "metadata": {
        "id": "TLKX3gxlJ_km"
      },
      "source": [
        "**Bước 3:**So sánh các giá trị thống kê mô tả của hai tập dữ liệu.\n",
        "\n",
        "**Sự khác biệt về vị trí tập trung dữ liệu :** chênh lệch khoảng 123-115 = 8\n",
        "\n",
        "**Nhận xét:** khác biệt không đáng kể"
      ]
    },
    {
      "cell_type": "code",
      "metadata": {
        "colab": {
          "base_uri": "https://localhost:8080/",
          "height": 173
        },
        "id": "ixnL6sq5JSV1",
        "outputId": "195106d5-4d87-4fda-99f0-78477e3f6242"
      },
      "source": [
        "d1 =pd.DataFrame({'TH1: Bà mẹ hút thuốc' : pd.Series([dlhutthuoc['bwt'].std(skipna=True),dlhutthuoc['bwt'].var(skipna=True),\n",
        "                                         dlhutthuoc['bwt'].max()-dlhutthuoc['bwt'].min(),\n",
        "                                         dlhutthuoc['bwt'].quantile(.75)-dlhutthuoc['bwt'].quantile(.25)],\n",
        "                                         index=['Sd','Var','Range','IQR']),\n",
        "      'TH2: Bà mẹ không hút thuốc' : pd.Series([dlkohutthuoc['bwt'].std(skipna=True),dlkohutthuoc['bwt'].var(skipna=True),\n",
        "                                         dlkohutthuoc['bwt'].max()-dlkohutthuoc['bwt'].min(),\n",
        "                                         dlkohutthuoc['bwt'].quantile(.75)-dlkohutthuoc['bwt'].quantile(.25)],\n",
        "                                         index=['Sd','Var','Range','IQR'])})\n",
        "d1['Chênh lệch (TH2-TH1)'] = d1['TH2: Bà mẹ không hút thuốc']-d1['TH1: Bà mẹ hút thuốc']\n",
        "d1"
      ],
      "execution_count": 17,
      "outputs": [
        {
          "output_type": "execute_result",
          "data": {
            "text/html": [
              "<div>\n",
              "<style scoped>\n",
              "    .dataframe tbody tr th:only-of-type {\n",
              "        vertical-align: middle;\n",
              "    }\n",
              "\n",
              "    .dataframe tbody tr th {\n",
              "        vertical-align: top;\n",
              "    }\n",
              "\n",
              "    .dataframe thead th {\n",
              "        text-align: right;\n",
              "    }\n",
              "</style>\n",
              "<table border=\"1\" class=\"dataframe\">\n",
              "  <thead>\n",
              "    <tr style=\"text-align: right;\">\n",
              "      <th></th>\n",
              "      <th>TH1: Bà mẹ hút thuốc</th>\n",
              "      <th>TH2: Bà mẹ không hút thuốc</th>\n",
              "      <th>Chênh lệch (TH2-TH1)</th>\n",
              "    </tr>\n",
              "  </thead>\n",
              "  <tbody>\n",
              "    <tr>\n",
              "      <th>Sd</th>\n",
              "      <td>18.098946</td>\n",
              "      <td>17.398689</td>\n",
              "      <td>-0.700257</td>\n",
              "    </tr>\n",
              "    <tr>\n",
              "      <th>Var</th>\n",
              "      <td>327.571835</td>\n",
              "      <td>302.714371</td>\n",
              "      <td>-24.857464</td>\n",
              "    </tr>\n",
              "    <tr>\n",
              "      <th>Range</th>\n",
              "      <td>105.000000</td>\n",
              "      <td>121.000000</td>\n",
              "      <td>16.000000</td>\n",
              "    </tr>\n",
              "    <tr>\n",
              "      <th>IQR</th>\n",
              "      <td>24.000000</td>\n",
              "      <td>21.000000</td>\n",
              "      <td>-3.000000</td>\n",
              "    </tr>\n",
              "  </tbody>\n",
              "</table>\n",
              "</div>"
            ],
            "text/plain": [
              "       TH1: Bà mẹ hút thuốc  TH2: Bà mẹ không hút thuốc  Chênh lệch (TH2-TH1)\n",
              "Sd                18.098946                   17.398689             -0.700257\n",
              "Var              327.571835                  302.714371            -24.857464\n",
              "Range            105.000000                  121.000000             16.000000\n",
              "IQR               24.000000                   21.000000             -3.000000"
            ]
          },
          "metadata": {},
          "execution_count": 17
        }
      ]
    },
    {
      "cell_type": "code",
      "metadata": {
        "colab": {
          "base_uri": "https://localhost:8080/",
          "height": 111
        },
        "id": "UjJrLeiqPFhB",
        "outputId": "4c46237a-0764-4057-ffde-a45849cb5d72"
      },
      "source": [
        "d2 = pd.DataFrame({'TH1: Bà mẹ hút thuốc' : pd.Series([dlhutthuoc['bwt'].skew(), dlhutthuoc['bwt'].kurtosis()+2.98],\n",
        "                   index = ['Skewness','Kurtosis']),\n",
        "                   'TH2: Bà mẹ không hút thuốc' : pd.Series([dlkohutthuoc['bwt'].skew(), dlkohutthuoc['bwt'].kurtosis()+2.98],\n",
        "                   index = ['Skewness','Kurtosis'])})\n",
        "d2['Chênh lệch (TH2-TH1)']=d2['TH2: Bà mẹ không hút thuốc']-d2['TH1: Bà mẹ hút thuốc']\n",
        "d2"
      ],
      "execution_count": 18,
      "outputs": [
        {
          "output_type": "execute_result",
          "data": {
            "text/html": [
              "<div>\n",
              "<style scoped>\n",
              "    .dataframe tbody tr th:only-of-type {\n",
              "        vertical-align: middle;\n",
              "    }\n",
              "\n",
              "    .dataframe tbody tr th {\n",
              "        vertical-align: top;\n",
              "    }\n",
              "\n",
              "    .dataframe thead th {\n",
              "        text-align: right;\n",
              "    }\n",
              "</style>\n",
              "<table border=\"1\" class=\"dataframe\">\n",
              "  <thead>\n",
              "    <tr style=\"text-align: right;\">\n",
              "      <th></th>\n",
              "      <th>TH1: Bà mẹ hút thuốc</th>\n",
              "      <th>TH2: Bà mẹ không hút thuốc</th>\n",
              "      <th>Chênh lệch (TH2-TH1)</th>\n",
              "    </tr>\n",
              "  </thead>\n",
              "  <tbody>\n",
              "    <tr>\n",
              "      <th>Skewness</th>\n",
              "      <td>-0.033700</td>\n",
              "      <td>-0.187363</td>\n",
              "      <td>-0.153664</td>\n",
              "    </tr>\n",
              "    <tr>\n",
              "      <th>Kurtosis</th>\n",
              "      <td>2.980408</td>\n",
              "      <td>4.032213</td>\n",
              "      <td>1.051805</td>\n",
              "    </tr>\n",
              "  </tbody>\n",
              "</table>\n",
              "</div>"
            ],
            "text/plain": [
              "          TH1: Bà mẹ hút thuốc  ...  Chênh lệch (TH2-TH1)\n",
              "Skewness             -0.033700  ...             -0.153664\n",
              "Kurtosis              2.980408  ...              1.051805\n",
              "\n",
              "[2 rows x 3 columns]"
            ]
          },
          "metadata": {},
          "execution_count": 18
        }
      ]
    },
    {
      "cell_type": "markdown",
      "metadata": {
        "id": "YagznDRSPKcR"
      },
      "source": [
        "**Nhận xét:** trường hợp bà mẹ hút thuốc có phân bố dữ liệu nhọn hơn, đối xứng hơn so với trường hợp không hút thuốc. Cả 2 trường hợp đều hơi lệch về trái."
      ]
    },
    {
      "cell_type": "markdown",
      "metadata": {
        "id": "gdG8wkrYPZTx"
      },
      "source": [
        "**2.Biểu diễn hình học của dữ liệu**"
      ]
    },
    {
      "cell_type": "markdown",
      "metadata": {
        "id": "v3uZ35r1PhHR"
      },
      "source": [
        "**1.Dữ liệu cân nặng của trẻ trong trường hợp bà mẹ hút thuốc và bà mẹ không hút thuốc**\n",
        "\n",
        "**Ta sẽ phân tích các biểu đồ:**\n",
        "\n",
        "\n",
        "*   Histogram\n",
        "*   Boxplot\n",
        "\n",
        "a) Histogram trong trường hợp bà mẹ không hút thuốc:\n"
      ]
    },
    {
      "cell_type": "code",
      "metadata": {
        "id": "Pw57O_wVQaR3",
        "colab": {
          "base_uri": "https://localhost:8080/",
          "height": 282
        },
        "outputId": "f4e5a573-04cf-44c9-ed36-7b284c4fc30e"
      },
      "source": [
        "dlhutthuoc['bwt'].plot.hist(bins=12)"
      ],
      "execution_count": 31,
      "outputs": [
        {
          "output_type": "execute_result",
          "data": {
            "text/plain": [
              "<matplotlib.axes._subplots.AxesSubplot at 0x7f5b712fd4d0>"
            ]
          },
          "metadata": {},
          "execution_count": 31
        },
        {
          "output_type": "display_data",
          "data": {
            "image/png": "[encoded data removed]",
            "text/plain": [
              "<Figure size 432x288 with 1 Axes>"
            ]
          },
          "metadata": {
            "needs_background": "light"
          }
        }
      ]
    },
    {
      "cell_type": "markdown",
      "metadata": {
        "id": "gPAznFyJRQqY"
      },
      "source": [
        "**Vị trí tập trung dữ liệu:** khoảng 110\n",
        "\n",
        "**Tính biến động của dữ liệu:** dữ liệu phân bố trong khoảng [50-170]\n",
        "\n",
        "**Tính đối xứng của phân bố dữ liệu:** dữ liệu chỉ có 1 đỉnh. Bắt đầu từ đỉnh, hai bên giảm dần và tốc độ giảm vừa phải.\n",
        "\n",
        "Dữ liệu phân bố gần đối xứng, hơi lệch về phía bên trái. Hai bên đuôi có độ dài vừa phải.\n",
        "\n",
        "**Giá trị ngoại lệ:** không thấy rõ có giá trị ngoại lệ nào đáng kể\n",
        "\n",
        "b) Boxplot:"
      ]
    },
    {
      "cell_type": "code",
      "metadata": {
        "colab": {
          "base_uri": "https://localhost:8080/",
          "height": 318
        },
        "id": "zPpcOJtCSWrA",
        "outputId": "141e825b-f97c-41c5-ee5a-086daa9a5c4a"
      },
      "source": [
        "dlhutthuoc.boxplot(column = ['bwt'],by ='smoke', grid=False)"
      ],
      "execution_count": 52,
      "outputs": [
        {
          "output_type": "execute_result",
          "data": {
            "text/plain": [
              "<matplotlib.axes._subplots.AxesSubplot at 0x7f5b6eb59290>"
            ]
          },
          "metadata": {},
          "execution_count": 52
        },
        {
          "output_type": "display_data",
          "data": {
            "image/png": "[encoded data removed]",
            "text/plain": [
              "<Figure size 432x288 with 1 Axes>"
            ]
          },
          "metadata": {
            "needs_background": "light"
          }
        }
      ]
    },
    {
      "cell_type": "markdown",
      "metadata": {
        "id": "8l099OPMVJa8"
      },
      "source": [
        "**Tính biến động của dữ liệu:** dữ liệu phân bố tập trung trong khoảng  từ [102,126]\n",
        "\n",
        "**Giá trị ngoại lệ:** có một số giá trị ngoại lệ (lớn hơn 162, nhỏ hơn 66) nhưng không nhiều.\n",
        "\n",
        "**2.Dữ liệu cân nặng của trẻ trong trường hợp bà mẹ hút thuốc không hút thuốc**\n",
        "\n",
        "a) Histogram trong trường hợp bà mẹ không hút thuốc:"
      ]
    },
    {
      "cell_type": "code",
      "metadata": {
        "colab": {
          "base_uri": "https://localhost:8080/",
          "height": 282
        },
        "id": "XASjoWkyVw5s",
        "outputId": "55b57479-64df-4dca-af98-2efa20ea474a"
      },
      "source": [
        "dlkohutthuoc['bwt'].plot.hist(bins=12)"
      ],
      "execution_count": 53,
      "outputs": [
        {
          "output_type": "execute_result",
          "data": {
            "text/plain": [
              "<matplotlib.axes._subplots.AxesSubplot at 0x7f5b6eabc2d0>"
            ]
          },
          "metadata": {},
          "execution_count": 53
        },
        {
          "output_type": "display_data",
          "data": {
            "image/png": "[encoded data removed]",
            "text/plain": [
              "<Figure size 432x288 with 1 Axes>"
            ]
          },
          "metadata": {
            "needs_background": "light"
          }
        }
      ]
    },
    {
      "cell_type": "markdown",
      "metadata": {
        "id": "17_RqnWjV4XL"
      },
      "source": [
        "**Vị trí tập trung dữ liệu:** khoảng 120\n",
        "\n",
        "**Tính biến động của dữ liệu:** dữ liệu phân bố trong khoảng [45-175]\n",
        "\n",
        "**Tính đối xứng của phân bố dữ liệu:** dữ liệu chỉ có 1 đỉnh. Bắt đầu từ đỉnh, hai bên giảm dần và tốc độ giảm vừa phải.\n",
        "\n",
        "Dữ liệu phân bố gần đối xứng, hơi lệch về phía bên phải. Hai bên đuôi có độ dài vừa phải.\n",
        "\n",
        "**Giá trị ngoại lệ:** không thấy rõ có giá trị ngoại lệ nào đáng kể\n",
        "\n",
        "b) Boxplot:"
      ]
    },
    {
      "cell_type": "code",
      "metadata": {
        "colab": {
          "base_uri": "https://localhost:8080/",
          "height": 318
        },
        "id": "GagiA-r3W4Mc",
        "outputId": "c07ffae5-2548-482c-8573-8bd7e027b514"
      },
      "source": [
        "dlkohutthuoc.boxplot(column = ['bwt'],by ='smoke', grid=False)"
      ],
      "execution_count": 54,
      "outputs": [
        {
          "output_type": "execute_result",
          "data": {
            "text/plain": [
              "<matplotlib.axes._subplots.AxesSubplot at 0x7f5b6ea52090>"
            ]
          },
          "metadata": {},
          "execution_count": 54
        },
        {
          "output_type": "display_data",
          "data": {
            "image/png": "[encoded data removed]",
            "text/plain": [
              "<Figure size 432x288 with 1 Axes>"
            ]
          },
          "metadata": {
            "needs_background": "light"
          }
        }
      ]
    },
    {
      "cell_type": "markdown",
      "metadata": {
        "id": "tEiZ7g9ve59l"
      },
      "source": [
        "**Tính biến động của dữ liệu:** dữ liệu phân bố tập trung trong khoảng  từ [111,131]\n",
        "\n",
        "**Giá trị ngoại lệ:** có một số giá trị ngoại lệ (lớn hơn 162, nhỏ hơn 88) nhưng không nhiều.\n",
        "\n",
        "**So sánh hai tập dữ liệu dựa vào các kiểu biểu diễn hình học:**\n",
        "\n",
        "**a)Histogram**\n",
        "\n",
        "Để so sánh, ta vẽ 2 histogram gần nhau:\n",
        "\n"
      ]
    },
    {
      "cell_type": "code",
      "metadata": {
        "colab": {
          "base_uri": "https://localhost:8080/",
          "height": 332
        },
        "id": "dyyesRtcfoQb",
        "outputId": "37f3680a-bd5c-47d2-c4fd-f4fa02f230be"
      },
      "source": [
        "d3 = pd.DataFrame({\"TH1\" : dlhutthuoc['bwt'], \"TH2\" : dlkohutthuoc['bwt']})\n",
        "\n",
        "d3.hist(column=['TH1', 'TH2'], grid = False, bins = 12)"
      ],
      "execution_count": 96,
      "outputs": [
        {
          "output_type": "execute_result",
          "data": {
            "text/plain": [
              "array([[<matplotlib.axes._subplots.AxesSubplot object at 0x7f5b6ef6d1d0>,\n",
              "        <matplotlib.axes._subplots.AxesSubplot object at 0x7f5b6d9c2210>]],\n",
              "      dtype=object)"
            ]
          },
          "metadata": {},
          "execution_count": 96
        },
        {
          "output_type": "display_data",
          "data": {
            "image/png": "[encoded data removed]",
            "text/plain": [
              "<Figure size 432x288 with 2 Axes>"
            ]
          },
          "metadata": {
            "needs_background": "light"
          }
        }
      ]
    },
    {
      "cell_type": "markdown",
      "metadata": {
        "id": "ZiMwKyP8wNsV"
      },
      "source": [
        "**Cân nặng của trẻ trong trường hợp bà mẹ không hút thuốc cao hơn so với trường hợp bà mẹ có hút thuốc**\n",
        "\n",
        "**Tính biến thiên của 2 tập dữ liệu:** tương tự nhau\n",
        "\n",
        "**Tính đối xứng của 2 tập dữ liệu:** tương tự nhau\n",
        "\n",
        "**Giá trị ngoại lệ:** cả 2 đều không có giá trị ngoại lệ đáng chú ý\n",
        "\n",
        "**b) Boxplot**"
      ]
    },
    {
      "cell_type": "code",
      "metadata": {
        "colab": {
          "base_uri": "https://localhost:8080/",
          "height": 372
        },
        "id": "NXmC9KgHwqy-",
        "outputId": "3bfda77c-026e-47eb-80b9-903139780b0e"
      },
      "source": [
        "dl1.boxplot(column=['bwt'] , by = 'smoke', grid = False)"
      ],
      "execution_count": 100,
      "outputs": [
        {
          "output_type": "stream",
          "name": "stderr",
          "text": [
            "/usr/local/lib/python3.7/dist-packages/numpy/core/_asarray.py:83: VisibleDeprecationWarning: Creating an ndarray from ragged nested sequences (which is a list-or-tuple of lists-or-tuples-or ndarrays with different lengths or shapes) is deprecated. If you meant to do this, you must specify 'dtype=object' when creating the ndarray\n",
            "  return array(a, dtype, copy=False, order=order)\n"
          ]
        },
        {
          "output_type": "execute_result",
          "data": {
            "text/plain": [
              "<matplotlib.axes._subplots.AxesSubplot at 0x7f5b6da651d0>"
            ]
          },
          "metadata": {},
          "execution_count": 100
        },
        {
          "output_type": "display_data",
          "data": {
            "image/png": "[encoded data removed]",
            "text/plain": [
              "<Figure size 432x288 with 1 Axes>"
            ]
          },
          "metadata": {
            "needs_background": "light"
          }
        }
      ]
    },
    {
      "cell_type": "markdown",
      "metadata": {
        "id": "rH5M0gTGw85k"
      },
      "source": [
        "**Khác biệt về vị trí:** giá trị trung vị của trường hợp bà mẹ không hút thuốc lớn hơn trường hợp bà mẹ có hút thuốc (123 và 155). (Trường hợp smoke = 9 là trường hợp không biết bà mẹ có hút thuốc hay không, trung vị trong trường hợp này cao hơn so với 2 trường hợp bà mẹ có hút thuốc và không hút thuốc).\n",
        "\n",
        "**Giá trị ngoại lệ:** cả 2 trường hợp đều có giá trị ngoại lệ trên và dưới.Trường hợp không hút thuốc có nhiều giá trị ngoại lệ hơn.\n",
        "\n",
        "Ta dùng thêm đồ thị QQ-plot để phân thích\n",
        "\n",
        "**So sánh QQ-Plot phân bố của 2 tập dữ liệu:**\n"
      ]
    },
    {
      "cell_type": "markdown",
      "metadata": {
        "id": "yn5v_-yr6lrE"
      },
      "source": [
        "QQ-plot trong trường hợp bà mẹ có hút thuốc"
      ]
    },
    {
      "cell_type": "code",
      "metadata": {
        "colab": {
          "base_uri": "https://localhost:8080/",
          "height": 279
        },
        "id": "XwD7gC5QyBhN",
        "outputId": "d51c5426-ee61-453c-f754-ba992d31a799"
      },
      "source": [
        "import statsmodels.api as sm\n",
        "import matplotlib.pyplot as plt\n",
        "\n",
        "sm.qqplot(dlhutthuoc['bwt'], line = 's')\n",
        "plt.show()\n",
        "\n"
      ],
      "execution_count": 130,
      "outputs": [
        {
          "output_type": "display_data",
          "data": {
            "image/png": "[encoded data removed]",
            "text/plain": [
              "<Figure size 432x288 with 1 Axes>"
            ]
          },
          "metadata": {
            "needs_background": "light"
          }
        }
      ]
    },
    {
      "cell_type": "markdown",
      "metadata": {
        "id": "GLjkHJvm6dOd"
      },
      "source": [
        "QQ-plot trong trường hợp bà mẹ không hút thuốc"
      ]
    },
    {
      "cell_type": "code",
      "metadata": {
        "colab": {
          "base_uri": "https://localhost:8080/",
          "height": 280
        },
        "id": "N_QHlr6n6u5X",
        "outputId": "f2eea57f-71c7-48cb-b63e-2bc4f84e3710"
      },
      "source": [
        "sm.qqplot(dlkohutthuoc['bwt'], line = 's')\n",
        "plt.show()"
      ],
      "execution_count": 132,
      "outputs": [
        {
          "output_type": "display_data",
          "data": {
            "image/png": "[encoded data removed]",
            "text/plain": [
              "<Figure size 432x288 with 1 Axes>"
            ]
          },
          "metadata": {
            "needs_background": "light"
          }
        }
      ]
    },
    {
      "cell_type": "markdown",
      "metadata": {
        "id": "OM11hg5I6wl9"
      },
      "source": [
        "**Nhận xét:** 2 trường hợp tương tự nhau"
      ]
    }
  ]
}