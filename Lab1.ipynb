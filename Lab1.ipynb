{
  "nbformat": 4,
  "nbformat_minor": 0,
  "metadata": {
    "colab": {
      "name": "Lab1.ipynb",
      "provenance": [],
      "collapsed_sections": [],
      "authorship_tag": "ABX9TyNK/2anrF74E4EQxDmzDKph",
      "include_colab_link": true
    },
    "kernelspec": {
      "name": "python3",
      "display_name": "Python 3"
    },
    "language_info": {
      "name": "python"
    }
  },
  "cells": [
    {
      "cell_type": "markdown",
      "metadata": {
        "id": "view-in-github",
        "colab_type": "text"
      },
      "source": [
        "<a href=\"https://colab.research.google.com/github/Spokai3/PhanTichDuLieuVaHocSau/blob/main/Lab1.ipynb\" target=\"_parent\"><img src=\"https://colab.research.google.com/assets/colab-badge.svg\" alt=\"Open In Colab\"/></a>"
      ]
    },
    {
      "cell_type": "markdown",
      "metadata": {
        "id": "OzHMbODRrJGi"
      },
      "source": [
        "**Example 1**\n"
      ]
    },
    {
      "cell_type": "code",
      "metadata": {
        "colab": {
          "base_uri": "https://localhost:8080/"
        },
        "id": "BeotrYXbn20d",
        "outputId": "fc2f376b-231a-44ae-869b-1085012d616c"
      },
      "source": [
        "import pandas as pd\n",
        "s = pd.Series([12,-4,7,9])\n",
        "print(s)"
      ],
      "execution_count": 2,
      "outputs": [
        {
          "output_type": "stream",
          "name": "stdout",
          "text": [
            "0    12\n",
            "1    -4\n",
            "2     7\n",
            "3     9\n",
            "dtype: int64\n"
          ]
        }
      ]
    },
    {
      "cell_type": "markdown",
      "metadata": {
        "id": "wGRkS8kgrL1h"
      },
      "source": [
        "**Example 2**"
      ]
    },
    {
      "cell_type": "code",
      "metadata": {
        "colab": {
          "base_uri": "https://localhost:8080/"
        },
        "id": "Xr-5f9k3pfYc",
        "outputId": "a865dc28-1451-4816-9cff-f4eb1bae6a6b"
      },
      "source": [
        "import pandas as pd\n",
        "s=pd.Series([12,-4,7,9], index=['a','b','c','d'])\n",
        "print (s)"
      ],
      "execution_count": 4,
      "outputs": [
        {
          "output_type": "stream",
          "name": "stdout",
          "text": [
            "a    12\n",
            "b    -4\n",
            "c     7\n",
            "d     9\n",
            "dtype: int64\n"
          ]
        }
      ]
    },
    {
      "cell_type": "code",
      "metadata": {
        "colab": {
          "base_uri": "https://localhost:8080/"
        },
        "id": "x5v1CzsQp4WT",
        "outputId": "cbeca70e-1abf-41ca-bcbc-a0f8da22a40e"
      },
      "source": [
        "print(s.values)"
      ],
      "execution_count": 5,
      "outputs": [
        {
          "output_type": "stream",
          "name": "stdout",
          "text": [
            "[12 -4  7  9]\n"
          ]
        }
      ]
    },
    {
      "cell_type": "code",
      "metadata": {
        "colab": {
          "base_uri": "https://localhost:8080/"
        },
        "id": "Zrg9EkpBqJDS",
        "outputId": "bf5216e1-4274-4ee8-9533-7803c65b4836"
      },
      "source": [
        "print(s.index)"
      ],
      "execution_count": 6,
      "outputs": [
        {
          "output_type": "stream",
          "name": "stdout",
          "text": [
            "Index(['a', 'b', 'c', 'd'], dtype='object')\n"
          ]
        }
      ]
    },
    {
      "cell_type": "markdown",
      "metadata": {
        "id": "BXVvGHn3rRBZ"
      },
      "source": [
        "**Example 3**"
      ]
    },
    {
      "cell_type": "code",
      "metadata": {
        "colab": {
          "base_uri": "https://localhost:8080/"
        },
        "id": "BYB9uv9IqNYs",
        "outputId": "b3ef14c0-d73c-4306-f004-0b2f56a718fe"
      },
      "source": [
        "data={'color':['blue','green','yellow','red','white'],\n",
        "      'object':['ball','pen','pencil','paper','mug'],\n",
        "      'price':[1.2,1.0,0.6,0.9,1.7]}\n",
        "frame=pd.DataFrame(data)\n",
        "print(frame)"
      ],
      "execution_count": 8,
      "outputs": [
        {
          "output_type": "stream",
          "name": "stdout",
          "text": [
            "    color  object  price\n",
            "0    blue    ball    1.2\n",
            "1   green     pen    1.0\n",
            "2  yellow  pencil    0.6\n",
            "3     red   paper    0.9\n",
            "4   white     mug    1.7\n"
          ]
        }
      ]
    },
    {
      "cell_type": "markdown",
      "metadata": {
        "id": "7Z4zEumAre3C"
      },
      "source": [
        "**Example 4**"
      ]
    },
    {
      "cell_type": "code",
      "metadata": {
        "colab": {
          "base_uri": "https://localhost:8080/"
        },
        "id": "o6Z3lpqErhHZ",
        "outputId": "b6a0b797-cd20-49a6-ed43-7c9ad2ac0af2"
      },
      "source": [
        "frame2 = pd.DataFrame (data, columns = ['object','price'])\n",
        "print(frame2)"
      ],
      "execution_count": 9,
      "outputs": [
        {
          "output_type": "stream",
          "name": "stdout",
          "text": [
            "   object  price\n",
            "0    ball    1.2\n",
            "1     pen    1.0\n",
            "2  pencil    0.6\n",
            "3   paper    0.9\n",
            "4     mug    1.7\n"
          ]
        }
      ]
    },
    {
      "cell_type": "markdown",
      "metadata": {
        "id": "QhUHrGC9sSHY"
      },
      "source": [
        "**Example 5**"
      ]
    },
    {
      "cell_type": "code",
      "metadata": {
        "colab": {
          "base_uri": "https://localhost:8080/"
        },
        "id": "96Aj23U-sTxD",
        "outputId": "0a504b25-4574-446f-bad1-52ef5d4cf586"
      },
      "source": [
        "frame2['type'] = 'normal'\n",
        "print(frame2)"
      ],
      "execution_count": 10,
      "outputs": [
        {
          "output_type": "stream",
          "name": "stdout",
          "text": [
            "   object  price    type\n",
            "0    ball    1.2  normal\n",
            "1     pen    1.0  normal\n",
            "2  pencil    0.6  normal\n",
            "3   paper    0.9  normal\n",
            "4     mug    1.7  normal\n"
          ]
        }
      ]
    },
    {
      "cell_type": "markdown",
      "metadata": {
        "id": "B0yXY0otsas4"
      },
      "source": [
        "**Example 6**"
      ]
    },
    {
      "cell_type": "code",
      "metadata": {
        "colab": {
          "base_uri": "https://localhost:8080/"
        },
        "id": "BMRJCHJ1sc6x",
        "outputId": "158f00d0-c3cf-46ba-d012-4e57c0cc93dc"
      },
      "source": [
        "for i in range(len(frame2)):\n",
        "  if frame2['price'][i] > 1.0:\n",
        "    frame2.loc[i, 'type'] = 'good'\n",
        "print(frame2)"
      ],
      "execution_count": 11,
      "outputs": [
        {
          "output_type": "stream",
          "name": "stdout",
          "text": [
            "   object  price    type\n",
            "0    ball    1.2    good\n",
            "1     pen    1.0  normal\n",
            "2  pencil    0.6  normal\n",
            "3   paper    0.9  normal\n",
            "4     mug    1.7    good\n"
          ]
        }
      ]
    },
    {
      "cell_type": "markdown",
      "metadata": {
        "id": "L-UFTorSv7SW"
      },
      "source": [
        "**Example 7**"
      ]
    },
    {
      "cell_type": "code",
      "metadata": {
        "colab": {
          "base_uri": "https://localhost:8080/"
        },
        "id": "lukbniuIv9yN",
        "outputId": "2235d23c-d90b-4ef2-e732-32566fdaf059"
      },
      "source": [
        "frame2['discout'] = frame2['price']*0.02\n",
        "print(frame2)"
      ],
      "execution_count": 12,
      "outputs": [
        {
          "output_type": "stream",
          "name": "stdout",
          "text": [
            "   object  price    type  discout\n",
            "0    ball    1.2    good    0.024\n",
            "1     pen    1.0  normal    0.020\n",
            "2  pencil    0.6  normal    0.012\n",
            "3   paper    0.9  normal    0.018\n",
            "4     mug    1.7    good    0.034\n"
          ]
        }
      ]
    },
    {
      "cell_type": "markdown",
      "metadata": {
        "id": "CAOU-OfawHRU"
      },
      "source": [
        "**Example 8**"
      ]
    },
    {
      "cell_type": "code",
      "metadata": {
        "colab": {
          "base_uri": "https://localhost:8080/"
        },
        "id": "r3tBplRhwJ1E",
        "outputId": "8beedef9-04e3-4eb1-f639-bcec1e86a91d"
      },
      "source": [
        "frame2['price_afterdiscout'] = frame2['price'] - frame2['discout']\n",
        "print(frame2)"
      ],
      "execution_count": 13,
      "outputs": [
        {
          "output_type": "stream",
          "name": "stdout",
          "text": [
            "   object  price    type  discout  price_afterdiscout\n",
            "0    ball    1.2    good    0.024               1.176\n",
            "1     pen    1.0  normal    0.020               0.980\n",
            "2  pencil    0.6  normal    0.012               0.588\n",
            "3   paper    0.9  normal    0.018               0.882\n",
            "4     mug    1.7    good    0.034               1.666\n"
          ]
        }
      ]
    },
    {
      "cell_type": "markdown",
      "metadata": {
        "id": "zFujJyIIwcCr"
      },
      "source": [
        "**Example 9**"
      ]
    },
    {
      "cell_type": "code",
      "metadata": {
        "colab": {
          "base_uri": "https://localhost:8080/"
        },
        "id": "qoORMTqmwer9",
        "outputId": "b204f9cf-fed5-488d-f007-546c4bababd4"
      },
      "source": [
        "import pandas as pd\n",
        "dulieuxettuyen = pd.read_csv(\"https://raw.githubusercontent.com/huynhhoc/DataAnalystDeepLearning/main/Data/dulieuxettuyendaihoc.csv\")\n",
        "print(dulieuxettuyen.head(10))"
      ],
      "execution_count": 14,
      "outputs": [
        {
          "output_type": "stream",
          "name": "stdout",
          "text": [
            "   STT   T1   L1   H1   S1   V1   X1  ...  GT  DT   KV   DH1   DH2   DH3  KT\n",
            "0    1  7.2  7.3  6.3  7.3  7.0  7.9  ...   F NaN  2NT  3.25  3.25  4.50  A1\n",
            "1    2  5.4  3.9  3.9  4.0  5.4  5.4  ...   M NaN    1  6.00  4.00  3.50   C\n",
            "2    3  5.6  6.8  7.2  7.5  4.3  7.4  ...   M NaN    1  5.00  6.75  4.00   C\n",
            "3    4  6.6  6.4  5.3  6.9  5.4  7.3  ...   M NaN    1  4.25  4.25  5.25  D1\n",
            "4    5  6.0  5.0  6.0  7.3  6.5  7.7  ...   M NaN  2NT  4.25  4.50  5.00   A\n",
            "5    6  9.3  7.6  7.9  8.6  7.0  7.3  ...   M NaN    1  1.50  4.00  6.00  D1\n",
            "6    7  2.8  3.9  5.5  6.9  5.0  7.3  ...   F NaN    2  6.50  6.75  5.25   C\n",
            "7    8  8.3  6.0  7.6  5.1  7.5  4.7  ...   F NaN    2  3.75  4.50  4.25  D1\n",
            "8    9  6.5  6.3  7.6  6.0  5.5  7.1  ...   F NaN    1  3.50  3.50  6.75  D1\n",
            "9   10  7.3  5.9  4.7  7.1  6.7  7.9  ...   F NaN    1  4.00  4.75  5.50  D1\n",
            "\n",
            "[10 rows x 56 columns]\n"
          ]
        }
      ]
    },
    {
      "cell_type": "markdown",
      "metadata": {
        "id": "_0m7pJGQxqG0"
      },
      "source": [
        "Read data without header"
      ]
    },
    {
      "cell_type": "code",
      "metadata": {
        "id": "9VTY_6Y1xW6W"
      },
      "source": [
        "import pandas as pd \n",
        "heartDisease = pd.read_csv(\"https://raw.githubusercontent.com/huynhhoc/DataAnalystDeepLearning/main/Data/dulieuxettuyendaihoc.csv\", header = None)\n",
        "print(heartDisease)"
      ],
      "execution_count": null,
      "outputs": []
    },
    {
      "cell_type": "markdown",
      "metadata": {
        "id": "igOtZREnxuTb"
      },
      "source": [
        "**Example 10**"
      ]
    },
    {
      "cell_type": "code",
      "metadata": {
        "colab": {
          "base_uri": "https://localhost:8080/"
        },
        "id": "1EYaDyogxwvn",
        "outputId": "58b46aa5-1110-4141-b667-1031fc13663a"
      },
      "source": [
        "import pandas as pd\n",
        "import numpy as np\n",
        "frame = pd.DataFrame(np.arange(16).reshape(4,4),\n",
        "                index =['white', 'black', 'red', 'blue'],\n",
        "                columns =['up', 'down', 'right', 'left'])\n",
        "frame.to_json('frame.json')\n",
        "jsonFrame = pd.read_json('frame.json')\n",
        "print(jsonFrame)"
      ],
      "execution_count": 15,
      "outputs": [
        {
          "output_type": "stream",
          "name": "stdout",
          "text": [
            "       up  down  right  left\n",
            "white   0     1      2     3\n",
            "black   4     5      6     7\n",
            "red     8     9     10    11\n",
            "blue   12    13     14    15\n"
          ]
        }
      ]
    },
    {
      "cell_type": "markdown",
      "metadata": {
        "id": "tlrgRjKpy-eD"
      },
      "source": [
        "**Example 11**"
      ]
    },
    {
      "cell_type": "code",
      "metadata": {
        "colab": {
          "base_uri": "https://localhost:8080/"
        },
        "id": "GtGvvuaSy_9M",
        "outputId": "0790ba93-7532-4084-a98e-0574e006e327"
      },
      "source": [
        "import pandas as pd\n",
        "vd11 = pd.read_table('https://raw.githubusercontent.com/huynhhoc/DataAnalystDeepLearning/main/Data/example11.txt', sep='\\D+', header=None, engine='python')\n",
        "print(vd11)"
      ],
      "execution_count": 16,
      "outputs": [
        {
          "output_type": "stream",
          "name": "stdout",
          "text": [
            "   0    1    2\n",
            "0  0  123  122\n",
            "1  1  124  321\n",
            "2  2  125  333\n"
          ]
        }
      ]
    },
    {
      "cell_type": "markdown",
      "metadata": {
        "id": "gnGFOCpizZfJ"
      },
      "source": [
        "**Example 12**"
      ]
    },
    {
      "cell_type": "code",
      "metadata": {
        "colab": {
          "base_uri": "https://localhost:8080/"
        },
        "id": "ZIcJivuZzcOm",
        "outputId": "594776f4-b2fb-475c-ab9c-e5d5a0430a77"
      },
      "source": [
        "import pandas as pd\n",
        "vd12 = pd.read_table('https://raw.githubusercontent.com/huynhhoc/DataAnalystDeepLearning/main/Data/example12.txt', sep=',', skiprows=[0,1,3,6])\n",
        "print(vd12)"
      ],
      "execution_count": 17,
      "outputs": [
        {
          "output_type": "stream",
          "name": "stdout",
          "text": [
            "   white  red  blue  green animal\n",
            "0      1    5     2      3    cat\n",
            "1      2    7     8      5    dog\n",
            "2      3    3     6      7  horse\n",
            "3      2    2     8      3   duck\n",
            "4      4    4     2      1  mouse\n"
          ]
        }
      ]
    },
    {
      "cell_type": "markdown",
      "metadata": {
        "id": "Pvn3gsbw1AA6"
      },
      "source": [
        "**Example 13**"
      ]
    },
    {
      "cell_type": "code",
      "metadata": {
        "colab": {
          "base_uri": "https://localhost:8080/"
        },
        "id": "1sEEIC7j1DLR",
        "outputId": "3be4e0a8-34fc-4418-ccda-8797c0842255"
      },
      "source": [
        "import pandas as pd\n",
        "vd13 = pd.read_table('https://raw.githubusercontent.com/huynhhoc/DataAnalystDeepLearning/main/Data/example13.txt', skiprows=[2], nrows=3)\n",
        "print(vd13)"
      ],
      "execution_count": 20,
      "outputs": [
        {
          "output_type": "stream",
          "name": "stdout",
          "text": [
            "  white,red,blue,green,animal\n",
            "0                 1,5,2,3,cat\n",
            "1               3,3,6,7,horse\n",
            "2                2,2,8,3,duck\n"
          ]
        }
      ]
    },
    {
      "cell_type": "markdown",
      "metadata": {
        "id": "4KJ27rJI1i2C"
      },
      "source": [
        "**Example 14**"
      ]
    },
    {
      "cell_type": "code",
      "metadata": {
        "colab": {
          "base_uri": "https://localhost:8080/"
        },
        "id": "mSfniBJx1mAg",
        "outputId": "e8178b84-597b-4ad9-9ac3-d8210d400a19"
      },
      "source": [
        "import pandas as pd\n",
        "import numpy as np\n",
        "frame = pd.DataFrame(np.arange(16).reshape(4,4),index = ['red','blue','yellow','white'], columns = ['ball','pen','pencil','paper'])\n",
        "print(frame)"
      ],
      "execution_count": 23,
      "outputs": [
        {
          "output_type": "stream",
          "name": "stdout",
          "text": [
            "        ball  pen  pencil  paper\n",
            "red        0    1       2      3\n",
            "blue       4    5       6      7\n",
            "yellow     8    9      10     11\n",
            "white     12   13      14     15\n"
          ]
        }
      ]
    },
    {
      "cell_type": "code",
      "metadata": {
        "colab": {
          "base_uri": "https://localhost:8080/"
        },
        "id": "ekR4s_nR2Vtw",
        "outputId": "9caef0b7-e9e0-46df-af6f-eea0ebcfdede"
      },
      "source": [
        "newframe = pd.DataFrame(frame, columns = [\"paper\",'pen'])\n",
        "print(newframe)"
      ],
      "execution_count": 24,
      "outputs": [
        {
          "output_type": "stream",
          "name": "stdout",
          "text": [
            "        paper  pen\n",
            "red         3    1\n",
            "blue        7    5\n",
            "yellow     11    9\n",
            "white      15   13\n"
          ]
        }
      ]
    },
    {
      "cell_type": "markdown",
      "metadata": {
        "id": "ZbyZPeDW2j64"
      },
      "source": [
        "**Example 14**: Set NaN for value less than 11"
      ]
    },
    {
      "cell_type": "code",
      "metadata": {
        "colab": {
          "base_uri": "https://localhost:8080/"
        },
        "id": "02xR-AIA2m_n",
        "outputId": "4a8e071a-e0c7-4c08-ac0b-acdbf40b54b8"
      },
      "source": [
        "filteredFrame = frame[frame < 11]\n",
        "print(filteredFrame)"
      ],
      "execution_count": 25,
      "outputs": [
        {
          "output_type": "stream",
          "name": "stdout",
          "text": [
            "        ball  pen  pencil  paper\n",
            "red      0.0  1.0     2.0    3.0\n",
            "blue     4.0  5.0     6.0    7.0\n",
            "yellow   8.0  9.0    10.0    NaN\n",
            "white    NaN  NaN     NaN    NaN\n"
          ]
        }
      ]
    }
  ]
}