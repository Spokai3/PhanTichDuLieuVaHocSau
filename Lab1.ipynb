{
  "nbformat": 4,
  "nbformat_minor": 0,
  "metadata": {
    "colab": {
      "name": "Lab1.ipynb",
      "provenance": [],
      "authorship_tag": "ABX9TyOFTFBuADINsBQWONIPjVcS",
      "include_colab_link": true
    },
    "kernelspec": {
      "name": "python3",
      "display_name": "Python 3"
    },
    "language_info": {
      "name": "python"
    }
  },
  "cells": [
    {
      "cell_type": "markdown",
      "metadata": {
        "id": "view-in-github",
        "colab_type": "text"
      },
      "source": [
        "<a href=\"https://colab.research.google.com/github/Spokai3/PhanTichDuLieuVaHocSau/blob/main/Lab1.ipynb\" target=\"_parent\"><img src=\"https://colab.research.google.com/assets/colab-badge.svg\" alt=\"Open In Colab\"/></a>"
      ]
    },
    {
      "cell_type": "markdown",
      "metadata": {
        "id": "OzHMbODRrJGi"
      },
      "source": [
        "Example 1\n"
      ]
    },
    {
      "cell_type": "code",
      "metadata": {
        "colab": {
          "base_uri": "https://localhost:8080/"
        },
        "id": "BeotrYXbn20d",
        "outputId": "fc2f376b-231a-44ae-869b-1085012d616c"
      },
      "source": [
        "import pandas as pd\n",
        "s = pd.Series([12,-4,7,9])\n",
        "print(s)"
      ],
      "execution_count": 2,
      "outputs": [
        {
          "output_type": "stream",
          "name": "stdout",
          "text": [
            "0    12\n",
            "1    -4\n",
            "2     7\n",
            "3     9\n",
            "dtype: int64\n"
          ]
        }
      ]
    },
    {
      "cell_type": "markdown",
      "metadata": {
        "id": "wGRkS8kgrL1h"
      },
      "source": [
        "Example 2"
      ]
    },
    {
      "cell_type": "code",
      "metadata": {
        "colab": {
          "base_uri": "https://localhost:8080/"
        },
        "id": "Xr-5f9k3pfYc",
        "outputId": "a865dc28-1451-4816-9cff-f4eb1bae6a6b"
      },
      "source": [
        "import pandas as pd\n",
        "s=pd.Series([12,-4,7,9], index=['a','b','c','d'])\n",
        "print (s)"
      ],
      "execution_count": 4,
      "outputs": [
        {
          "output_type": "stream",
          "name": "stdout",
          "text": [
            "a    12\n",
            "b    -4\n",
            "c     7\n",
            "d     9\n",
            "dtype: int64\n"
          ]
        }
      ]
    },
    {
      "cell_type": "code",
      "metadata": {
        "colab": {
          "base_uri": "https://localhost:8080/"
        },
        "id": "x5v1CzsQp4WT",
        "outputId": "cbeca70e-1abf-41ca-bcbc-a0f8da22a40e"
      },
      "source": [
        "print(s.values)"
      ],
      "execution_count": 5,
      "outputs": [
        {
          "output_type": "stream",
          "name": "stdout",
          "text": [
            "[12 -4  7  9]\n"
          ]
        }
      ]
    },
    {
      "cell_type": "code",
      "metadata": {
        "colab": {
          "base_uri": "https://localhost:8080/"
        },
        "id": "Zrg9EkpBqJDS",
        "outputId": "bf5216e1-4274-4ee8-9533-7803c65b4836"
      },
      "source": [
        "print(s.index)"
      ],
      "execution_count": 6,
      "outputs": [
        {
          "output_type": "stream",
          "name": "stdout",
          "text": [
            "Index(['a', 'b', 'c', 'd'], dtype='object')\n"
          ]
        }
      ]
    },
    {
      "cell_type": "markdown",
      "metadata": {
        "id": "BXVvGHn3rRBZ"
      },
      "source": [
        "Example 3"
      ]
    },
    {
      "cell_type": "code",
      "metadata": {
        "colab": {
          "base_uri": "https://localhost:8080/"
        },
        "id": "BYB9uv9IqNYs",
        "outputId": "b3ef14c0-d73c-4306-f004-0b2f56a718fe"
      },
      "source": [
        "data={'color':['blue','green','yellow','red','white'],\n",
        "      'object':['ball','pen','pencil','paper','mug'],\n",
        "      'price':[1.2,1.0,0.6,0.9,1.7]}\n",
        "frame=pd.DataFrame(data)\n",
        "print(frame)"
      ],
      "execution_count": 8,
      "outputs": [
        {
          "output_type": "stream",
          "name": "stdout",
          "text": [
            "    color  object  price\n",
            "0    blue    ball    1.2\n",
            "1   green     pen    1.0\n",
            "2  yellow  pencil    0.6\n",
            "3     red   paper    0.9\n",
            "4   white     mug    1.7\n"
          ]
        }
      ]
    },
    {
      "cell_type": "markdown",
      "metadata": {
        "id": "7Z4zEumAre3C"
      },
      "source": [
        "Example 4"
      ]
    },
    {
      "cell_type": "code",
      "metadata": {
        "colab": {
          "base_uri": "https://localhost:8080/"
        },
        "id": "o6Z3lpqErhHZ",
        "outputId": "b6a0b797-cd20-49a6-ed43-7c9ad2ac0af2"
      },
      "source": [
        "frame2 = pd.DataFrame (data, columns = ['object','price'])\n",
        "print(frame2)"
      ],
      "execution_count": 9,
      "outputs": [
        {
          "output_type": "stream",
          "name": "stdout",
          "text": [
            "   object  price\n",
            "0    ball    1.2\n",
            "1     pen    1.0\n",
            "2  pencil    0.6\n",
            "3   paper    0.9\n",
            "4     mug    1.7\n"
          ]
        }
      ]
    },
    {
      "cell_type": "markdown",
      "metadata": {
        "id": "QhUHrGC9sSHY"
      },
      "source": [
        "Example 5"
      ]
    },
    {
      "cell_type": "code",
      "metadata": {
        "colab": {
          "base_uri": "https://localhost:8080/"
        },
        "id": "96Aj23U-sTxD",
        "outputId": "0a504b25-4574-446f-bad1-52ef5d4cf586"
      },
      "source": [
        "frame2['type'] = 'normal'\n",
        "print(frame2)"
      ],
      "execution_count": 10,
      "outputs": [
        {
          "output_type": "stream",
          "name": "stdout",
          "text": [
            "   object  price    type\n",
            "0    ball    1.2  normal\n",
            "1     pen    1.0  normal\n",
            "2  pencil    0.6  normal\n",
            "3   paper    0.9  normal\n",
            "4     mug    1.7  normal\n"
          ]
        }
      ]
    },
    {
      "cell_type": "markdown",
      "metadata": {
        "id": "B0yXY0otsas4"
      },
      "source": [
        "Example 6"
      ]
    },
    {
      "cell_type": "code",
      "metadata": {
        "colab": {
          "base_uri": "https://localhost:8080/"
        },
        "id": "BMRJCHJ1sc6x",
        "outputId": "158f00d0-c3cf-46ba-d012-4e57c0cc93dc"
      },
      "source": [
        "for i in range(len(frame2)):\n",
        "  if frame2['price'][i] > 1.0:\n",
        "    frame2.loc[i, 'type'] = 'good'\n",
        "print(frame2)"
      ],
      "execution_count": 11,
      "outputs": [
        {
          "output_type": "stream",
          "name": "stdout",
          "text": [
            "   object  price    type\n",
            "0    ball    1.2    good\n",
            "1     pen    1.0  normal\n",
            "2  pencil    0.6  normal\n",
            "3   paper    0.9  normal\n",
            "4     mug    1.7    good\n"
          ]
        }
      ]
    }
  ]
}